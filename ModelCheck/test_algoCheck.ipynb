import numpy as np
import pandas as pd
from sklearn.feature_extraction.text import TfidfVectorizer
from sklearn.metrics.pairwise import cosine_similarity

# Assuming you have the necessary data and variables defined

def test_model():
    # Transform the test data into vectors
    test_conditions_vec = vectorizer.transform(X_test['conditions'])

    # Calculate the similarity between the test vectors and the conditions vectors
    test_similarity = cosine_similarity(test_conditions_vec, conditions_vec)

    # Get the indices of the most similar programs for each test data point
    test_most_similar_programs = test_similarity.argmax(axis=1)

    # Create a DataFrame to store the expected results
    expected_results = pd.DataFrame(columns=['Test Data Point', 'Expected Program Index', 'Expected Program Name'])

    # Add the expected results for each test data point
    for i, program_index in enumerate(test_most_similar_programs):
        expected_results = expected_results.append({
            'Test Data Point': i+1,
            'Expected Program Index': program_index,
            'Expected Program Name': df1.iloc[program_index]['name']
        }, ignore_index=True)

    # Perform assertions to check if the actual results match the expected results
    for i, row in expected_results.iterrows():
        assert row['Expected Program Index'] == test_most_similar_programs[i]
        assert row['Expected Program Name'] == df1.iloc[test_most_similar_programs[i]]['name']

    print("All tests passed successfully!")

# Run the tests
test_model()